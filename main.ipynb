{
 "cells": [
  {
   "cell_type": "code",
   "execution_count": 28,
   "metadata": {},
   "outputs": [],
   "source": [
    "import pandas as pd"
   ]
  },
  {
   "cell_type": "code",
   "execution_count": 29,
   "metadata": {},
   "outputs": [],
   "source": [
    "from pyvis.network import Network"
   ]
  },
  {
   "cell_type": "code",
   "execution_count": 30,
   "metadata": {},
   "outputs": [
    {
     "data": {
      "text/html": [
       "<div>\n",
       "<style scoped>\n",
       "    .dataframe tbody tr th:only-of-type {\n",
       "        vertical-align: middle;\n",
       "    }\n",
       "\n",
       "    .dataframe tbody tr th {\n",
       "        vertical-align: top;\n",
       "    }\n",
       "\n",
       "    .dataframe thead th {\n",
       "        text-align: right;\n",
       "    }\n",
       "</style>\n",
       "<table border=\"1\" class=\"dataframe\">\n",
       "  <thead>\n",
       "    <tr style=\"text-align: right;\">\n",
       "      <th></th>\n",
       "      <th>source</th>\n",
       "      <th>target</th>\n",
       "    </tr>\n",
       "  </thead>\n",
       "  <tbody>\n",
       "    <tr>\n",
       "      <th>1919668</th>\n",
       "      <td>175229187</td>\n",
       "      <td>55705393</td>\n",
       "    </tr>\n",
       "    <tr>\n",
       "      <th>2124622</th>\n",
       "      <td>113645326</td>\n",
       "      <td>16025848</td>\n",
       "    </tr>\n",
       "    <tr>\n",
       "      <th>842182</th>\n",
       "      <td>217932743</td>\n",
       "      <td>13058232</td>\n",
       "    </tr>\n",
       "    <tr>\n",
       "      <th>1488784</th>\n",
       "      <td>193560593</td>\n",
       "      <td>52560743</td>\n",
       "    </tr>\n",
       "    <tr>\n",
       "      <th>98983</th>\n",
       "      <td>16003580</td>\n",
       "      <td>29344169</td>\n",
       "    </tr>\n",
       "  </tbody>\n",
       "</table>\n",
       "</div>"
      ],
      "text/plain": [
       "            source    target\n",
       "1919668  175229187  55705393\n",
       "2124622  113645326  16025848\n",
       "842182   217932743  13058232\n",
       "1488784  193560593  52560743\n",
       "98983     16003580  29344169"
      ]
     },
     "execution_count": 30,
     "metadata": {},
     "output_type": "execute_result"
    }
   ],
   "source": [
    "# carregamento dos dados\n",
    "df = pd.read_csv('twitter_combined.txt', sep=' ', header=None)\n",
    "df.columns = ['source', 'target']\n",
    "sample = df.sample(500, random_state=42)\n",
    "sample.head(5)"
   ]
  },
  {
   "cell_type": "code",
   "execution_count": 31,
   "metadata": {},
   "outputs": [],
   "source": [
    "# criando a instância\n",
    "g = Network(\n",
    "    notebook=True,\n",
    "    cdn_resources='remote',\n",
    "    height='750px', \n",
    "    width='100%', \n",
    "    bgcolor='#222222', \n",
    "    font_color='white',\n",
    "    select_menu = True,\n",
    "    filter_menu = True,\n",
    ")\n"
   ]
  },
  {
   "cell_type": "code",
   "execution_count": 32,
   "metadata": {},
   "outputs": [
    {
     "ename": "AssertionError",
     "evalue": "",
     "output_type": "error",
     "traceback": [
      "\u001b[1;31m---------------------------------------------------------------------------\u001b[0m",
      "\u001b[1;31mAssertionError\u001b[0m                            Traceback (most recent call last)",
      "Cell \u001b[1;32mIn[32], line 5\u001b[0m\n\u001b[0;32m      3\u001b[0m g\u001b[39m.\u001b[39madd_nodes(nodes)\n\u001b[0;32m      4\u001b[0m g\u001b[39m.\u001b[39madd_edges(edges)\n\u001b[1;32m----> 5\u001b[0m g\u001b[39m.\u001b[39;49mfrom_nx(sample)   \n\u001b[0;32m      6\u001b[0m g\u001b[39m.\u001b[39mshow(\u001b[39m'\u001b[39m\u001b[39mtwitter.html\u001b[39m\u001b[39m'\u001b[39m, notebook\u001b[39m=\u001b[39m\u001b[39mFalse\u001b[39;00m)\n",
      "File \u001b[1;32md:\\network_twitter\\.venv\\lib\\site-packages\\pyvis\\network.py:689\u001b[0m, in \u001b[0;36mNetwork.from_nx\u001b[1;34m(self, nx_graph, node_size_transf, edge_weight_transf, default_node_size, default_edge_weight, show_edge_weights, edge_scaling)\u001b[0m\n\u001b[0;32m    660\u001b[0m \u001b[39mdef\u001b[39;00m \u001b[39mfrom_nx\u001b[39m(\u001b[39mself\u001b[39m, nx_graph, node_size_transf\u001b[39m=\u001b[39m(\u001b[39mlambda\u001b[39;00m x: x), edge_weight_transf\u001b[39m=\u001b[39m(\u001b[39mlambda\u001b[39;00m x: x),\n\u001b[0;32m    661\u001b[0m             default_node_size \u001b[39m=\u001b[39m\u001b[39m10\u001b[39m, default_edge_weight\u001b[39m=\u001b[39m\u001b[39m1\u001b[39m, show_edge_weights\u001b[39m=\u001b[39m\u001b[39mTrue\u001b[39;00m, edge_scaling\u001b[39m=\u001b[39m\u001b[39mFalse\u001b[39;00m):\n\u001b[0;32m    662\u001b[0m \u001b[39m    \u001b[39m\u001b[39m\"\"\"\u001b[39;00m\n\u001b[0;32m    663\u001b[0m \u001b[39m    This method takes an exisitng Networkx graph and translates\u001b[39;00m\n\u001b[0;32m    664\u001b[0m \u001b[39m    it to a PyVis graph format that can be accepted by the VisJs\u001b[39;00m\n\u001b[1;32m   (...)\u001b[0m\n\u001b[0;32m    687\u001b[0m \u001b[39m    >>> nt.show(\"nx.html\")\u001b[39;00m\n\u001b[0;32m    688\u001b[0m \u001b[39m    \"\"\"\u001b[39;00m\n\u001b[1;32m--> 689\u001b[0m     \u001b[39massert\u001b[39;00m(\u001b[39misinstance\u001b[39m(nx_graph, nx\u001b[39m.\u001b[39mGraph))\n\u001b[0;32m    690\u001b[0m     edges\u001b[39m=\u001b[39mnx_graph\u001b[39m.\u001b[39medges(data \u001b[39m=\u001b[39m \u001b[39mTrue\u001b[39;00m)\n\u001b[0;32m    691\u001b[0m     nodes\u001b[39m=\u001b[39mnx_graph\u001b[39m.\u001b[39mnodes(data \u001b[39m=\u001b[39m \u001b[39mTrue\u001b[39;00m)\n",
      "\u001b[1;31mAssertionError\u001b[0m: "
     ]
    }
   ],
   "source": [
    "nodes = list(set([*sample.source, *sample.target]))\n",
    "edges = sample.values.tolist()\n",
    "g.add_nodes(nodes)\n",
    "g.add_edges(edges)\n",
    "g.from_nx(sample)   \n",
    "g.show('twitter.html', notebook=False)"
   ]
  }
 ],
 "metadata": {
  "kernelspec": {
   "display_name": ".venv",
   "language": "python",
   "name": "python3"
  },
  "language_info": {
   "codemirror_mode": {
    "name": "ipython",
    "version": 3
   },
   "file_extension": ".py",
   "mimetype": "text/x-python",
   "name": "python",
   "nbconvert_exporter": "python",
   "pygments_lexer": "ipython3",
   "version": "3.10.5"
  },
  "orig_nbformat": 4
 },
 "nbformat": 4,
 "nbformat_minor": 2
}
